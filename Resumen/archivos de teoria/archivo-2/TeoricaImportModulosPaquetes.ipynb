{
 "cells": [
  {
   "cell_type": "markdown",
   "metadata": {},
   "source": [
    "## El sistema de importación de Modulos y Paquetes\n",
    "\n",
    "Modulos se pueden usara para definir dentro ellos atributos , clases , funciones y constanes .\n",
    "Los conceptos principales del sistema de importación son los de módulo y paquete. Un módulo es un archivo de Python (por lo general con extensión .py, en ocasiones .pyd si se trata de un módulo compilado). Un paquete es una carpeta que en su interior contiene módulos u otros paquetes. \n",
    "Usando las palabras reservadas from e import que provee el sistema, podemos utilizar variables, funciones, clases, excepciones y cualquier otro objeto que estén dentro de un módulo.\n",
    "\n",
    "La instrucción import combina dos operaciones; busca el módulo con nombre y, a continuación, enlaza los resultados de esa búsqueda a un nombre en el ámbito local.\n",
    "\n",
    "Cuando se importa por primera vez un módulo, Python busca el módulo y, si se encuentra, crea un objeto , inicializándolo. Si no se encuentra el módulo con nombre, se genera un ModuleNotFoundError. Python implementa varias estrategias para buscar el módulo con nombre cuando se invoca la importación.\n",
    "\n",
    "Es importante tener en cuenta que todos los paquetes son módulos, pero no todos los módulos son paquetes. O dicho de otra manera, los paquetes son sólo un tipo especial de módulo. En concreto, cualquier módulo que contenga un atributo __path__ se considera un paquete.\n",
    "\n",
    "Todos los módulos tienen un nombre. Los nombres de submodulo se separan del nombre de su paquete primario por un punto, similar a la sintaxis de acceso a atributos estándar de Python. Por lo tanto, es posible que tenga un módulo llamado sys y un paquete llamado correo electrónico, que a su vez tiene un subpaquete llamado email.mime y un módulo dentro de ese subpaquete denominado email.mime.text.\n",
    "\n",
    "Documentacion https://docs.python.org/es/3/reference/import.html\n"
   ]
  },
  {
   "cell_type": "code",
   "execution_count": 19,
   "metadata": {},
   "outputs": [
    {
     "name": "stdout",
     "output_type": "stream",
     "text": [
      "Grados  310  Radianes  5.410520681182422\n"
     ]
    }
   ],
   "source": [
    "##from math import \n",
    "from math import radians\n",
    "##import \n",
    "import numpy \n",
    "grados = numpy.random.randint(360)\n",
    "radianes = radians(grados)\n",
    "print(\"Grados \",grados,\" Radianes \",radianes)\n",
    "##dir(numpy.random)"
   ]
  },
  {
   "cell_type": "code",
   "execution_count": 36,
   "metadata": {},
   "outputs": [
    {
     "name": "stdout",
     "output_type": "stream",
     "text": [
      "Grados  197  Radianes  3.4382986264288293\n"
     ]
    }
   ],
   "source": [
    "from math import radians \n",
    "##import as \n",
    "import numpy as nm\n",
    "grados = nm.random.randint(360)\n",
    "radianes = radians(grados)\n",
    "print(\"Grados \",grados,\" Radianes \",radianes)\n",
    "##dir(numpy.random)"
   ]
  },
  {
   "cell_type": "code",
   "execution_count": 20,
   "metadata": {},
   "outputs": [
    {
     "name": "stdout",
     "output_type": "stream",
     "text": [
      "math\n"
     ]
    }
   ],
   "source": [
    "##name \n",
    "import math \n",
    "print(math.__name__)"
   ]
  },
  {
   "cell_type": "markdown",
   "metadata": {},
   "source": [
    "Importa un archivo sufijo py . "
   ]
  },
  {
   "cell_type": "code",
   "execution_count": 37,
   "metadata": {},
   "outputs": [
    {
     "name": "stdout",
     "output_type": "stream",
     "text": [
      "Ubicacion Archivo  C:\\Users\\mario\\Documents\\2022Soporte\\Teoricas\\Teorica02PaquetesImport\\modulo1.py\n",
      "Dir Modulo1  ['__builtins__', '__cached__', '__doc__', '__file__', '__loader__', '__name__', '__package__', '__spec__', 'aux', 'mimodulo', 'suma']\n"
     ]
    }
   ],
   "source": [
    "import modulo1\n",
    "print(\"Ubicacion Archivo \",modulo1.__file__)\n",
    "print(\"Dir Modulo1 \", dir(modulo1) )"
   ]
  },
  {
   "cell_type": "code",
   "execution_count": 38,
   "metadata": {},
   "outputs": [],
   "source": [
    "import numpy \n"
   ]
  },
  {
   "cell_type": "code",
   "execution_count": 39,
   "metadata": {},
   "outputs": [
    {
     "data": {
      "text/plain": [
       "True"
      ]
     },
     "execution_count": 39,
     "metadata": {},
     "output_type": "execute_result"
    }
   ],
   "source": [
    "modulo1.mimodulo.numpy==numpy "
   ]
  },
  {
   "cell_type": "code",
   "execution_count": 40,
   "metadata": {},
   "outputs": [
    {
     "data": {
      "text/plain": [
       "True"
      ]
     },
     "execution_count": 40,
     "metadata": {},
     "output_type": "execute_result"
    }
   ],
   "source": [
    " modulo1.mimodulo.numpy is numpy "
   ]
  },
  {
   "cell_type": "code",
   "execution_count": 41,
   "metadata": {},
   "outputs": [
    {
     "data": {
      "text/plain": [
       "True"
      ]
     },
     "execution_count": 41,
     "metadata": {},
     "output_type": "execute_result"
    }
   ],
   "source": [
    "id(modulo1.mimodulo.numpy)==id(numpy)"
   ]
  },
  {
   "cell_type": "markdown",
   "metadata": {},
   "source": [
    "Modulos Python \n",
    "Al importar modulos pyton se genera __pychache__ con el bycode del archivo py "
   ]
  },
  {
   "cell_type": "code",
   "execution_count": 14,
   "metadata": {},
   "outputs": [
    {
     "name": "stdout",
     "output_type": "stream",
     "text": [
      "mimodulo.cpython-38.pyc\n",
      "modulo1.cpython-38.pyc\n"
     ]
    }
   ],
   "source": [
    "import os\n",
    "mypath = os.getcwd()          ##returns current working directory of a process.\n",
    "mypath = mypath+\"\\__pycache__\"\n",
    "for x in os.listdir(mypath):    ##returns a list containing the names of the entries in the directory given by path. \n",
    "    print(x)"
   ]
  },
  {
   "cell_type": "markdown",
   "metadata": {},
   "source": [
    "## Ubicacion de los Modulos \n",
    "\n",
    "Cuando se importa modulos , le interprete sigue la siguiente secuencia \n",
    "\n",
    "        Directorio Actual \n",
    "    \n",
    "        Si no los encuentra , en empieza a buscar en la lista de variable PYTHONPATH . \n",
    "        \n",
    "Los caminos de busqueda de estan en el modulo de sys en la variable sys.path . \n",
    "La variables sys.path contiene el directorio actual , el PYTHONPATH , el default .\n",
    "\n",
    "El primer lugar donde buscará Python cuando le indicamos que debe importar un módulo es en la carpeta local o el directorio actual de trabajo (current working directory). El directorio actual de trabajo es la ubicación desde la cual un programa es ejecutado. Por ejemplo, si ejecutamos un archivo de Python desde la terminal, la ubicación donde esté la terminal al momento de ejecutar el archivo es el directorio actual de trabajo. Si ejecutamos un archivo desde un editor de código (como Geany, Visual Studio Code o PyCharm), el directorio actual de trabajo por lo general es la misma carpeta donde se encuentra el archivo en cuestión. (Para más información sobre el directorio actual de trabajo, véase La línea de comandos (o terminal) para pythonistas).\n",
    "\n",
    "Si Python no encuentra el módulo en el directorio actual de trabajo, buscará en las carpetas Lib y Lib/site-packages, que se encuentran en el directorio de instalación de Python. De modo que cualquier módulo que se encuentre dentro de alguna de esas dos carpetas podrá ser importado desde cualquier ubicación. Si revisamos la carpeta Lib, encontraremos ahí ya gran cantidad de módulos y paquetes.\n",
    "\n",
    "En la carpeta Lib/site-packages se almacenan los módulos y paquetes desarrollados por la comunidad (listados en pypi.org), los cuales podemos instalar vía pip, que es la herramienta oficial del lenguaje para gestionar paquetes de terceros."
   ]
  },
  {
   "cell_type": "code",
   "execution_count": 28,
   "metadata": {},
   "outputs": [
    {
     "name": "stdout",
     "output_type": "stream",
     "text": [
      "['C:\\\\Users\\\\mario\\\\Documents\\\\2022Soporte\\\\Teoricas\\\\Teorica02PaquetesImport', 'C:\\\\Sistemas\\\\Anaconda\\\\python38.zip', 'C:\\\\Sistemas\\\\Anaconda\\\\DLLs', 'C:\\\\Sistemas\\\\Anaconda\\\\lib', 'C:\\\\Sistemas\\\\Anaconda', '', 'C:\\\\Sistemas\\\\Anaconda\\\\lib\\\\site-packages', 'C:\\\\Sistemas\\\\Anaconda\\\\lib\\\\site-packages\\\\win32', 'C:\\\\Sistemas\\\\Anaconda\\\\lib\\\\site-packages\\\\win32\\\\lib', 'C:\\\\Sistemas\\\\Anaconda\\\\lib\\\\site-packages\\\\Pythonwin', 'C:\\\\Sistemas\\\\Anaconda\\\\lib\\\\site-packages\\\\IPython\\\\extensions', 'C:\\\\Users\\\\mario\\\\.ipython']\n"
     ]
    }
   ],
   "source": [
    "import sys\n",
    "\n",
    "print( sys.path )"
   ]
  },
  {
   "cell_type": "markdown",
   "metadata": {},
   "source": [
    "## Modulos Integrados \n",
    "## Modulos vinculados al interpres"
   ]
  },
  {
   "cell_type": "code",
   "execution_count": 42,
   "metadata": {},
   "outputs": [
    {
     "name": "stdout",
     "output_type": "stream",
     "text": [
      "C:\\Sistemas\\Anaconda\\lib\\os.py\n",
      "_abc\n",
      "_ast\n",
      "_bisect\n",
      "_blake2\n",
      "_codecs\n",
      "_codecs_cn\n",
      "_codecs_hk\n",
      "_codecs_iso2022\n",
      "_codecs_jp\n",
      "_codecs_kr\n",
      "_codecs_tw\n",
      "_collections\n",
      "_contextvars\n",
      "_csv\n",
      "_datetime\n",
      "_functools\n",
      "_heapq\n",
      "_imp\n",
      "_io\n",
      "_json\n",
      "_locale\n",
      "_lsprof\n",
      "_md5\n",
      "_multibytecodec\n",
      "_opcode\n",
      "_operator\n",
      "_pickle\n",
      "_random\n",
      "_sha1\n",
      "_sha256\n",
      "_sha3\n",
      "_sha512\n",
      "_signal\n",
      "_sre\n",
      "_stat\n",
      "_statistics\n",
      "_string\n",
      "_struct\n",
      "_symtable\n",
      "_thread\n",
      "_tracemalloc\n",
      "_warnings\n",
      "_weakref\n",
      "_winapi\n",
      "_xxsubinterpreters\n",
      "array\n",
      "atexit\n",
      "audioop\n",
      "binascii\n",
      "builtins\n",
      "cmath\n",
      "errno\n",
      "faulthandler\n",
      "gc\n",
      "itertools\n",
      "marshal\n",
      "math\n",
      "mmap\n",
      "msvcrt\n",
      "nt\n",
      "parser\n",
      "sys\n",
      "time\n",
      "winreg\n",
      "xxsubtype\n",
      "zlib\n"
     ]
    }
   ],
   "source": [
    "import sys\n",
    "\n",
    "print(os.__file__)\n",
    "\n",
    "for modu in  sys.builtin_module_names:\n",
    "    print(modu)"
   ]
  },
  {
   "cell_type": "markdown",
   "metadata": {},
   "source": [
    "## Funcion  dir() \n",
    "\n",
    "dir() es una funcion que lista todas nombre de funciones y variables en un modulo "
   ]
  },
  {
   "cell_type": "code",
   "execution_count": 31,
   "metadata": {},
   "outputs": [
    {
     "name": "stdout",
     "output_type": "stream",
     "text": [
      "dir  ['_WIN32_CLIENT_RELEASES', '_WIN32_SERVER_RELEASES', '__builtins__', '__cached__', '__copyright__', '__doc__', '__file__', '__loader__', '__name__', '__package__', '__spec__', '__version__', '_comparable_version', '_component_re', '_default_architecture', '_follow_symlinks', '_ironpython26_sys_version_parser', '_ironpython_sys_version_parser', '_java_getprop', '_libc_search', '_mac_ver_xml', '_node', '_norm_version', '_platform', '_platform_cache', '_pypy_sys_version_parser', '_sys_version', '_sys_version_cache', '_sys_version_parser', '_syscmd_file', '_syscmd_uname', '_syscmd_ver', '_uname_cache', '_ver_output', '_ver_stages', 'architecture', 'collections', 'java_ver', 'libc_ver', 'mac_ver', 'machine', 'node', 'os', 'platform', 'processor', 'python_branch', 'python_build', 'python_compiler', 'python_implementation', 'python_revision', 'python_version', 'python_version_tuple', 're', 'release', 'sys', 'system', 'system_alias', 'uname', 'uname_result', 'version', 'win32_edition', 'win32_is_iot', 'win32_ver']\n",
      "Procesador  Intel64 Family 6 Model 126 Stepping 5, GenuineIntel\n",
      "Python Version  3.8.5\n"
     ]
    }
   ],
   "source": [
    "import platform\n",
    "## el módulo estándar platform provee información a nivel software y hardware; \n",
    "## tal como arquitectura, procesador, datos del sistema operativo, la distribución de Python\n",
    "x = dir(platform)\n",
    "print(\"dir \",x)\n",
    "print(\"Procesador \",platform.processor())\n",
    "print(\"Python Version \",platform.python_version())"
   ]
  },
  {
   "cell_type": "code",
   "execution_count": 45,
   "metadata": {},
   "outputs": [
    {
     "name": "stdout",
     "output_type": "stream",
     "text": [
      "Dir(modulo1)  ['__builtins__', '__cached__', '__doc__', '__file__', '__loader__', '__name__', '__package__', '__spec__', 'aux', 'mimodulo', 'suma']\n"
     ]
    }
   ],
   "source": [
    "import modulo1\n",
    "\n",
    "x = dir(modulo1)\n",
    "print(\"Dir(modulo1) \",x) "
   ]
  },
  {
   "cell_type": "markdown",
   "metadata": {},
   "source": [
    "## From para  importar un módulo\n",
    "\n",
    "Acabamos de ver cómo importar un módulo usando la palabra reservada import. Una sintaxis alternativa es la siguiente:"
   ]
  },
  {
   "cell_type": "code",
   "execution_count": 43,
   "metadata": {},
   "outputs": [
    {
     "name": "stdout",
     "output_type": "stream",
     "text": [
      "Sumar Resultado  12\n",
      "Pi  3.141592\n"
     ]
    }
   ],
   "source": [
    "# principal.py\n",
    "from mimodulo import sumar, pi\n",
    "resultado = sumar(7, 5)\n",
    "print(\"Sumar Resultado \",resultado)\n",
    "print(\"Pi \",pi)"
   ]
  },
  {
   "cell_type": "code",
   "execution_count": null,
   "metadata": {},
   "outputs": [],
   "source": []
  }
 ],
 "metadata": {
  "kernelspec": {
   "display_name": "Python 3",
   "language": "python",
   "name": "python3"
  },
  "language_info": {
   "codemirror_mode": {
    "name": "ipython",
    "version": 3
   },
   "file_extension": ".py",
   "mimetype": "text/x-python",
   "name": "python",
   "nbconvert_exporter": "python",
   "pygments_lexer": "ipython3",
   "version": "3.8.5"
  }
 },
 "nbformat": 4,
 "nbformat_minor": 4
}
