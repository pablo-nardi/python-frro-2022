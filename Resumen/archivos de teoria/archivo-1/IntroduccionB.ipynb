{
 "cells": [
  {
   "cell_type": "markdown",
   "metadata": {},
   "source": [
    "# Teoría Listas, Sets, If, While, For"
   ]
  },
  {
   "cell_type": "markdown",
   "metadata": {},
   "source": [
    "## VariablesInmutables"
   ]
  },
  {
   "cell_type": "markdown",
   "metadata": {},
   "source": [
    "Al asignarles valor la variable A de doy ID"
   ]
  },
  {
   "cell_type": "code",
   "execution_count": 2,
   "metadata": {},
   "outputs": [
    {
     "name": "stdout",
     "output_type": "stream",
     "text": [
      "a=1 Id  140713824298784\n"
     ]
    }
   ],
   "source": [
    "a = 1\n",
    "print(\"a=1 Id \", id(a))"
   ]
  },
  {
   "cell_type": "markdown",
   "metadata": {},
   "source": [
    "Al asignarle otro valor la variable A cambia su ID"
   ]
  },
  {
   "cell_type": "code",
   "execution_count": 3,
   "metadata": {},
   "outputs": [
    {
     "name": "stdout",
     "output_type": "stream",
     "text": [
      "a=2 Id  140713824298816\n"
     ]
    }
   ],
   "source": [
    "a = 2\n",
    "print(\"a=2 Id \", id(a))"
   ]
  },
  {
   "cell_type": "markdown",
   "metadata": {},
   "source": [
    "Al asignarle a B el mismo valor A por optimizacion conserva su id"
   ]
  },
  {
   "cell_type": "code",
   "execution_count": 4,
   "metadata": {},
   "outputs": [
    {
     "name": "stdout",
     "output_type": "stream",
     "text": [
      "b=a Id  140713824298816\n"
     ]
    }
   ],
   "source": [
    "b = a\n",
    "print(\"b=a Id \", id(b))"
   ]
  },
  {
   "cell_type": "markdown",
   "metadata": {},
   "source": [
    "Al cambiarlo el valor de B se da otro ID"
   ]
  },
  {
   "cell_type": "code",
   "execution_count": 5,
   "metadata": {},
   "outputs": [
    {
     "name": "stdout",
     "output_type": "stream",
     "text": [
      "b=3 Id  140713824298848\n"
     ]
    }
   ],
   "source": [
    "b = 3\n",
    "print(\"b=3 Id \", id(b))"
   ]
  },
  {
   "cell_type": "markdown",
   "metadata": {},
   "source": [
    "## Mutabilidad vs Inmutabilidad"
   ]
  },
  {
   "cell_type": "markdown",
   "metadata": {},
   "source": [
    "No tener en cuenta la inmutabilidad  o la mutabilidad trae problemas:"
   ]
  },
  {
   "cell_type": "markdown",
   "metadata": {},
   "source": [
    "### Las listas son mutables"
   ]
  },
  {
   "cell_type": "code",
   "execution_count": 6,
   "metadata": {},
   "outputs": [
    {
     "name": "stdout",
     "output_type": "stream",
     "text": [
      "[[1, 2, 3], [4, 5, 6], [7, 8, 9]]\n"
     ]
    }
   ],
   "source": [
    "a = [[1, 2, 3], [4, 5, 6], [7, 8, 9]]\n",
    "print(a)"
   ]
  },
  {
   "cell_type": "code",
   "execution_count": 7,
   "metadata": {},
   "outputs": [
    {
     "name": "stdout",
     "output_type": "stream",
     "text": [
      "[[-1, 2, 3], [4, 5, 6], [7, 8, 9]]\n"
     ]
    }
   ],
   "source": [
    "b = a\n",
    "b[0][0] = -1\n",
    "print(b)"
   ]
  },
  {
   "cell_type": "code",
   "execution_count": 8,
   "metadata": {},
   "outputs": [
    {
     "name": "stdout",
     "output_type": "stream",
     "text": [
      "[[-1, 2, 3], [4, 5, 6], [7, 8, 9]]\n",
      "[[-1, 2, 3], [4, 5, 6], [7, 8, 9]]\n"
     ]
    }
   ],
   "source": [
    "print(a)\n",
    "print(b)"
   ]
  },
  {
   "cell_type": "code",
   "execution_count": 9,
   "metadata": {},
   "outputs": [
    {
     "data": {
      "text/plain": [
       "True"
      ]
     },
     "execution_count": 9,
     "metadata": {},
     "output_type": "execute_result"
    }
   ],
   "source": [
    "a == b"
   ]
  },
  {
   "cell_type": "markdown",
   "metadata": {},
   "source": [
    "Una forma de verlo es que todo lo mutable se pasa por REFERENCIA"
   ]
  },
  {
   "cell_type": "markdown",
   "metadata": {},
   "source": [
    "### Alternativa 1 - El usuario desea que siga siendo mutable - Usar deepcopy"
   ]
  },
  {
   "cell_type": "code",
   "execution_count": 11,
   "metadata": {},
   "outputs": [],
   "source": [
    "from copy import deepcopy # Biblioteca estandar"
   ]
  },
  {
   "cell_type": "code",
   "execution_count": 12,
   "metadata": {},
   "outputs": [
    {
     "name": "stdout",
     "output_type": "stream",
     "text": [
      "[[1, 2, 3], [4, 5, 6], [7, 8, 9]]\n",
      "[[-1, 2, 3], [4, 5, 6], [7, 8, 9]]\n"
     ]
    }
   ],
   "source": [
    "a = [[1, 2, 3], [4, 5, 6], [7, 8, 9]]\n",
    "\n",
    "b = deepcopy(a)\n",
    "b[0][0] = -1\n",
    "print(a)\n",
    "print(b)"
   ]
  },
  {
   "cell_type": "markdown",
   "metadata": {},
   "source": [
    "Ahora es lo que uno esperaría"
   ]
  },
  {
   "cell_type": "markdown",
   "metadata": {},
   "source": [
    "### Alternativa 2 - El usuario NO desea que siga siendo mutable - Usar tuplas"
   ]
  },
  {
   "cell_type": "code",
   "execution_count": 13,
   "metadata": {},
   "outputs": [
    {
     "name": "stdout",
     "output_type": "stream",
     "text": [
      "[(1, 2, 3), (4, 5, 6), (7, 8, 9)]\n"
     ]
    },
    {
     "ename": "TypeError",
     "evalue": "'tuple' object does not support item assignment",
     "output_type": "error",
     "traceback": [
      "\u001b[1;31m---------------------------------------------------------------------------\u001b[0m",
      "\u001b[1;31mTypeError\u001b[0m                                 Traceback (most recent call last)",
      "\u001b[1;32m<ipython-input-13-563d3a45b753>\u001b[0m in \u001b[0;36m<module>\u001b[1;34m\u001b[0m\n\u001b[0;32m      3\u001b[0m \u001b[1;33m\u001b[0m\u001b[0m\n\u001b[0;32m      4\u001b[0m \u001b[0mb\u001b[0m \u001b[1;33m=\u001b[0m \u001b[0ma\u001b[0m\u001b[1;33m\u001b[0m\u001b[1;33m\u001b[0m\u001b[0m\n\u001b[1;32m----> 5\u001b[1;33m \u001b[0mb\u001b[0m\u001b[1;33m[\u001b[0m\u001b[1;36m0\u001b[0m\u001b[1;33m]\u001b[0m\u001b[1;33m[\u001b[0m\u001b[1;36m0\u001b[0m\u001b[1;33m]\u001b[0m \u001b[1;33m=\u001b[0m \u001b[1;33m-\u001b[0m\u001b[1;36m1\u001b[0m \u001b[1;31m# ERROR\u001b[0m\u001b[1;33m\u001b[0m\u001b[1;33m\u001b[0m\u001b[0m\n\u001b[0m",
      "\u001b[1;31mTypeError\u001b[0m: 'tuple' object does not support item assignment"
     ]
    }
   ],
   "source": [
    "a = [(1, 2, 3), (4, 5, 6), (7, 8, 9)]\n",
    "print(a)\n",
    "\n",
    "b = a \n",
    "b[0][0] = -1 # ERROR"
   ]
  },
  {
   "cell_type": "markdown",
   "metadata": {},
   "source": [
    "Trabajar con listas de listas no es común, pero si es común trabajar con listas de objetos y este comportamiento también se aplica con listas de objetos"
   ]
  },
  {
   "cell_type": "markdown",
   "metadata": {},
   "source": [
    "## Sets\n",
    "Tipo de Datos Iterable"
   ]
  },
  {
   "cell_type": "code",
   "execution_count": 14,
   "metadata": {},
   "outputs": [
    {
     "name": "stdout",
     "output_type": "stream",
     "text": [
      "s1 {1, 5, 6, 7}\n"
     ]
    }
   ],
   "source": [
    "s1 = set([1, 5, 6])\n",
    "s1.add(7)\n",
    "print(\"s1\", s1)"
   ]
  },
  {
   "cell_type": "code",
   "execution_count": 15,
   "metadata": {},
   "outputs": [
    {
     "name": "stdout",
     "output_type": "stream",
     "text": [
      "s2 {2, 4, 5, 7}\n"
     ]
    }
   ],
   "source": [
    "s2 = {2, 5, 4, 7}\n",
    "print(\"s2\", s2)"
   ]
  },
  {
   "cell_type": "markdown",
   "metadata": {},
   "source": [
    "### Interseccion"
   ]
  },
  {
   "cell_type": "code",
   "execution_count": 16,
   "metadata": {},
   "outputs": [
    {
     "name": "stdout",
     "output_type": "stream",
     "text": [
      "Interseccion Operador  {5, 7}\n",
      "Interseccion Metodo  {5, 7}\n"
     ]
    }
   ],
   "source": [
    "print(\"Interseccion Operador \", s1 & s2 )\n",
    "print(\"Interseccion Metodo \", s1.intersection(s2) )"
   ]
  },
  {
   "cell_type": "markdown",
   "metadata": {},
   "source": [
    "### Union"
   ]
  },
  {
   "cell_type": "code",
   "execution_count": 17,
   "metadata": {},
   "outputs": [
    {
     "name": "stdout",
     "output_type": "stream",
     "text": [
      "Union Operador  {1, 2, 4, 5, 6, 7}\n",
      "Union Metodo  {1, 2, 4, 5, 6, 7}\n"
     ]
    }
   ],
   "source": [
    "print(\"Union Operador \", s1 | s2 )\n",
    "print(\"Union Metodo \", s1.union(s2) )"
   ]
  },
  {
   "cell_type": "markdown",
   "metadata": {},
   "source": [
    "### Diferencia"
   ]
  },
  {
   "cell_type": "code",
   "execution_count": 18,
   "metadata": {},
   "outputs": [
    {
     "name": "stdout",
     "output_type": "stream",
     "text": [
      "Diferencia Operador  {1, 6}\n",
      "Diferencia Metodo  {1, 6}\n"
     ]
    }
   ],
   "source": [
    "print(\"Diferencia Operador \", s1 - s2 )\n",
    "print(\"Diferencia Metodo \", s1.difference(s2) )"
   ]
  },
  {
   "cell_type": "markdown",
   "metadata": {},
   "source": [
    "### Diferencia Simetrica"
   ]
  },
  {
   "cell_type": "code",
   "execution_count": 19,
   "metadata": {},
   "outputs": [
    {
     "name": "stdout",
     "output_type": "stream",
     "text": [
      "Diferencia Simetrica Operador  {1, 2, 4, 6}\n",
      "Diferencia Simetrica Operador Metodo  {1, 2, 4, 6}\n"
     ]
    }
   ],
   "source": [
    "print(\"Diferencia Simetrica Operador \", s1 ^ s2)\n",
    "print(\"Diferencia Simetrica Operador Metodo \", s1.symmetric_difference(s2))"
   ]
  },
  {
   "cell_type": "markdown",
   "metadata": {},
   "source": [
    "### Nota sobre inmutabilidad"
   ]
  },
  {
   "cell_type": "markdown",
   "metadata": {},
   "source": [
    "El set es MUTABLE, si se necesita un conjunto INMUTABLE se debe usar FROZENSET"
   ]
  },
  {
   "cell_type": "code",
   "execution_count": 20,
   "metadata": {},
   "outputs": [],
   "source": [
    "s1 = frozenset([1, 5, 6])\n",
    "s2 = frozenset({2, 5, 4, 7})"
   ]
  },
  {
   "cell_type": "markdown",
   "metadata": {},
   "source": [
    "Las mismas operaciones son posibles"
   ]
  },
  {
   "cell_type": "code",
   "execution_count": 21,
   "metadata": {},
   "outputs": [
    {
     "name": "stdout",
     "output_type": "stream",
     "text": [
      "Diferencia Simetrica Operador  frozenset({1, 2, 4, 6, 7})\n"
     ]
    }
   ],
   "source": [
    "print(\"Diferencia Simetrica Operador \", s1 ^ s2)"
   ]
  },
  {
   "cell_type": "markdown",
   "metadata": {},
   "source": [
    "## If Es If y con Elif reemplaza al case / If anidado"
   ]
  },
  {
   "cell_type": "code",
   "execution_count": 22,
   "metadata": {},
   "outputs": [
    {
     "name": "stdout",
     "output_type": "stream",
     "text": [
      "\n",
      "Ingresa un número entero, por favor: 1\n"
     ]
    }
   ],
   "source": [
    "numero = int(input(\"\\nIngresa un número entero, por favor: \"))"
   ]
  },
  {
   "cell_type": "markdown",
   "metadata": {},
   "source": [
    "### If con elif"
   ]
  },
  {
   "cell_type": "code",
   "execution_count": 21,
   "metadata": {},
   "outputs": [
    {
     "name": "stdout",
     "output_type": "stream",
     "text": [
      "El número ingresado es 1.\n",
      "\n"
     ]
    }
   ],
   "source": [
    "if numero < 0:\n",
    "    print('El número ingresado es negativo \\n')\n",
    "elif numero == 0:\n",
    "    print('El número ingresado es 0.\\n')\n",
    "elif numero == 1:\n",
    "    print('El número ingresado es 1.\\n')\n",
    "else:\n",
    "    print('El número ingresado es mayor que uno.\\n')\n"
   ]
  },
  {
   "cell_type": "markdown",
   "metadata": {},
   "source": [
    "### If anidado seria"
   ]
  },
  {
   "cell_type": "code",
   "execution_count": 22,
   "metadata": {},
   "outputs": [
    {
     "name": "stdout",
     "output_type": "stream",
     "text": [
      "El número ingresado es 1.\n",
      "\n"
     ]
    }
   ],
   "source": [
    "if numero>=0:\n",
    "    if numero==0:\n",
    "        print('El número ingresado es 0.\\n')\n",
    "    else:\n",
    "        if numero==1:\n",
    "            print('El número ingresado es 1.\\n')\n",
    "        else:\n",
    "            print('El número ingresado es mayor que uno.\\n')\n",
    "else:\n",
    "    print('El número ingresado es negativo \\n')"
   ]
  },
  {
   "cell_type": "markdown",
   "metadata": {},
   "source": [
    "### Zen Python \"Sencillo es mejor que anidado.\"\n",
    "\n",
    "Nota sobre return en las funciones con IFs"
   ]
  },
  {
   "cell_type": "code",
   "execution_count": 23,
   "metadata": {},
   "outputs": [],
   "source": [
    "def mensaje(numero):\n",
    "    if numero < 0:\n",
    "        mensaje = 'El número ingresado es negativo \\n'\n",
    "    elif numero == 0:\n",
    "        mensaje = 'El número ingresado es 0.\\n'\n",
    "    elif numero == 1:\n",
    "        mensaje = 'El número ingresado es 1.\\n'\n",
    "    else:\n",
    "        mensaje = 'El número ingresado es mayor que uno.\\n'\n",
    "    return mensaje\n",
    "\n",
    "def mensaje(numero):\n",
    "    if numero < 0:\n",
    "        return 'El número ingresado es negativo \\n'\n",
    "    if numero == 0:\n",
    "        return 'El número ingresado es 0.\\n'\n",
    "    if numero == 1:\n",
    "        return 'El número ingresado es 1.\\n'\n",
    "        \n",
    "    return 'El número ingresado es mayor que uno.\\n'"
   ]
  },
  {
   "cell_type": "code",
   "execution_count": 24,
   "metadata": {},
   "outputs": [],
   "source": [
    "dato1, dato2, dato3, dato4 = 21, 10, 5, 20"
   ]
  },
  {
   "cell_type": "markdown",
   "metadata": {},
   "source": [
    "## Tipo Bool"
   ]
  },
  {
   "cell_type": "code",
   "execution_count": 25,
   "metadata": {},
   "outputs": [
    {
     "name": "stdout",
     "output_type": "stream",
     "text": [
      "Tipo de Boleano  <class 'bool'>\n"
     ]
    }
   ],
   "source": [
    "print(\"Tipo de Boleano \", type(dato1 == dato2) )"
   ]
  },
  {
   "cell_type": "code",
   "execution_count": 26,
   "metadata": {},
   "outputs": [
    {
     "name": "stdout",
     "output_type": "stream",
     "text": [
      "Tipo de True  <class 'bool'>\n"
     ]
    }
   ],
   "source": [
    "print(\"Tipo de True \", type(True))"
   ]
  },
  {
   "cell_type": "code",
   "execution_count": 27,
   "metadata": {},
   "outputs": [
    {
     "name": "stdout",
     "output_type": "stream",
     "text": [
      "Tipo de False  <class 'bool'>\n"
     ]
    }
   ],
   "source": [
    "print(\"Tipo de False \", type(False))"
   ]
  },
  {
   "cell_type": "markdown",
   "metadata": {},
   "source": [
    "### Bool es un tipo derivado de tipo Int\n",
    "`issubclass(class A,class B)` Devuelte `True` si la Clase A es Subclase de B"
   ]
  },
  {
   "cell_type": "code",
   "execution_count": 28,
   "metadata": {},
   "outputs": [
    {
     "name": "stdout",
     "output_type": "stream",
     "text": [
      "Bool des Subclase de Int True\n"
     ]
    }
   ],
   "source": [
    "print(\"Bool des Subclase de Int\", issubclass(bool, int))"
   ]
  },
  {
   "cell_type": "markdown",
   "metadata": {},
   "source": [
    "True se representa con el 1"
   ]
  },
  {
   "cell_type": "code",
   "execution_count": 29,
   "metadata": {},
   "outputs": [
    {
     "name": "stdout",
     "output_type": "stream",
     "text": [
      "True + 9 =  10\n"
     ]
    }
   ],
   "source": [
    "print(\"True + 9 = \", True + 9)"
   ]
  },
  {
   "cell_type": "markdown",
   "metadata": {},
   "source": [
    "False se representa con el 0"
   ]
  },
  {
   "cell_type": "code",
   "execution_count": 30,
   "metadata": {},
   "outputs": [
    {
     "name": "stdout",
     "output_type": "stream",
     "text": [
      "False + 9 =  9\n"
     ]
    }
   ],
   "source": [
    "print(\"False + 9 = \", False + 9)"
   ]
  },
  {
   "cell_type": "markdown",
   "metadata": {},
   "source": [
    "Ejemplo de operador de comparación Igual:"
   ]
  },
  {
   "cell_type": "code",
   "execution_count": 31,
   "metadata": {},
   "outputs": [
    {
     "name": "stdout",
     "output_type": "stream",
     "text": [
      "'dato1' y 'dato2' no son iguales.\n"
     ]
    }
   ],
   "source": [
    "if (dato1 == dato2):\n",
    "    print(\"'dato1' y 'dato2' son iguales.\")\n",
    "else:\n",
    "    print(\"'dato1' y 'dato2' no son iguales.\")"
   ]
  },
  {
   "cell_type": "markdown",
   "metadata": {},
   "source": [
    "Ejemplo de operador de comparación Distinto:"
   ]
  },
  {
   "cell_type": "code",
   "execution_count": 32,
   "metadata": {},
   "outputs": [
    {
     "name": "stdout",
     "output_type": "stream",
     "text": [
      "'dato1' y 'dato2' son distintas.\n"
     ]
    }
   ],
   "source": [
    "if (dato1 != dato2):\n",
    "    print(\"'dato1' y 'dato2' son distintas.\")\n",
    "else:\n",
    "    print(\"'dato1' y 'dato2' no son distintas.\")"
   ]
  },
  {
   "cell_type": "markdown",
   "metadata": {},
   "source": [
    "Ejemplo de in:"
   ]
  },
  {
   "cell_type": "code",
   "execution_count": 33,
   "metadata": {},
   "outputs": [
    {
     "name": "stdout",
     "output_type": "stream",
     "text": [
      "'dato1' esta conjunto 21 al 23.\n"
     ]
    }
   ],
   "source": [
    "if (dato1 in [21, 22, 23]):\n",
    "    print(\"'dato1' esta conjunto 21 al 23.\")\n",
    "else:\n",
    "    print(\"'dato1' no esta conjutno 21 al 23.\")"
   ]
  },
  {
   "cell_type": "markdown",
   "metadata": {},
   "source": [
    "Ejemplo de operador de comparación Menor que:"
   ]
  },
  {
   "cell_type": "code",
   "execution_count": 34,
   "metadata": {},
   "outputs": [
    {
     "name": "stdout",
     "output_type": "stream",
     "text": [
      "'dato1' no es menor que 'dato2'.\n"
     ]
    }
   ],
   "source": [
    "if (dato1 < dato2):\n",
    "    print(\"'dato1' es menor que 'dato2'.\")\n",
    "else:\n",
    "    print(\"'dato1' no es menor que 'dato2'.\")"
   ]
  },
  {
   "cell_type": "markdown",
   "metadata": {},
   "source": [
    "Ejemplo de operador de comparación Mayor que:"
   ]
  },
  {
   "cell_type": "code",
   "execution_count": 35,
   "metadata": {},
   "outputs": [
    {
     "name": "stdout",
     "output_type": "stream",
     "text": [
      "'dato1' es mayor que 'dato2'.\n"
     ]
    }
   ],
   "source": [
    "if (dato1 > dato2):\n",
    "    print(\"'dato1' es mayor que 'dato2'.\")\n",
    "else:\n",
    "    print(\"'dato1' no es mayor que 'dato2'.\")"
   ]
  },
  {
   "cell_type": "markdown",
   "metadata": {},
   "source": [
    "Ejemplo de operador de comparación Menor o igual que:"
   ]
  },
  {
   "cell_type": "code",
   "execution_count": 36,
   "metadata": {},
   "outputs": [
    {
     "name": "stdout",
     "output_type": "stream",
     "text": [
      "'dato3' es menor o igual que 'dato4'.\n"
     ]
    }
   ],
   "source": [
    "if (dato3 <= dato4):\n",
    "    print(\"'dato3' es menor o igual que 'dato4'.\")\n",
    "else:\n",
    "    print(\"'dato3' no es menor o igual que 'dato4'.\")"
   ]
  },
  {
   "cell_type": "markdown",
   "metadata": {},
   "source": [
    "Ejemplo de operador de comparación Mayor o igual que:"
   ]
  },
  {
   "cell_type": "code",
   "execution_count": 37,
   "metadata": {},
   "outputs": [
    {
     "name": "stdout",
     "output_type": "stream",
     "text": [
      "'dato4' es mayor o igual que 'dato3'.\n"
     ]
    }
   ],
   "source": [
    "if (dato4 >= dato3):\n",
    "    print(\"'dato4' es mayor o igual que 'dato3'.\")\n",
    "else:\n",
    "    print(\"'dato4' no es mayor o igual que 'dato3'.\")"
   ]
  },
  {
   "cell_type": "markdown",
   "metadata": {},
   "source": [
    "### Representación booleana de datos no básicos"
   ]
  },
  {
   "cell_type": "markdown",
   "metadata": {},
   "source": [
    "Para Strings"
   ]
  },
  {
   "cell_type": "code",
   "execution_count": 23,
   "metadata": {},
   "outputs": [
    {
     "name": "stdout",
     "output_type": "stream",
     "text": [
      "Este es un mensaje vacio\n",
      "Este es un mensaje vacio\n"
     ]
    }
   ],
   "source": [
    "mensaje = \"\"\n",
    "\n",
    "if mensaje == \"\":\n",
    "    print(\"Este es un mensaje vacio\")\n",
    "\n",
    "if not mensaje:\n",
    "    print(\"Este es un mensaje vacio\")"
   ]
  },
  {
   "cell_type": "markdown",
   "metadata": {},
   "source": [
    "Para Listas"
   ]
  },
  {
   "cell_type": "code",
   "execution_count": 39,
   "metadata": {},
   "outputs": [
    {
     "name": "stdout",
     "output_type": "stream",
     "text": [
      "Esta es una lista vacia\n",
      "Esta es una lista vacia\n"
     ]
    }
   ],
   "source": [
    "lista = []\n",
    "\n",
    "if lista == []:\n",
    "    print(\"Esta es una lista vacia\")\n",
    "\n",
    "if not lista:\n",
    "    print(\"Esta es una lista vacia\")"
   ]
  },
  {
   "cell_type": "markdown",
   "metadata": {},
   "source": [
    "Para Tuplas"
   ]
  },
  {
   "cell_type": "code",
   "execution_count": 42,
   "metadata": {},
   "outputs": [
    {
     "name": "stdout",
     "output_type": "stream",
     "text": [
      "Esta es una tupla vacia\n",
      "Esta es una tupla vacia\n"
     ]
    }
   ],
   "source": [
    "tupla = ()\n",
    "\n",
    "if tupla == tuple():\n",
    "    print(\"Esta es una tupla vacia\")\n",
    "\n",
    "if not tupla:\n",
    "    print(\"Esta es una tupla vacia\")"
   ]
  },
  {
   "cell_type": "markdown",
   "metadata": {},
   "source": [
    "Para Diccionarios"
   ]
  },
  {
   "cell_type": "code",
   "execution_count": 43,
   "metadata": {},
   "outputs": [
    {
     "name": "stdout",
     "output_type": "stream",
     "text": [
      "Este es un diccionario vacio\n",
      "Este es un diccionario vacio\n"
     ]
    }
   ],
   "source": [
    "diccionario = {}\n",
    "\n",
    "if diccionario == {}:\n",
    "    print(\"Este es un diccionario vacio\")\n",
    "\n",
    "if not diccionario:\n",
    "    print(\"Este es un diccionario vacio\")"
   ]
  },
  {
   "cell_type": "markdown",
   "metadata": {},
   "source": [
    "Para Conjuntos"
   ]
  },
  {
   "cell_type": "code",
   "execution_count": 44,
   "metadata": {},
   "outputs": [
    {
     "name": "stdout",
     "output_type": "stream",
     "text": [
      "Este es un conjunto vacio\n",
      "Este es un conjunto vacio\n"
     ]
    }
   ],
   "source": [
    "conjunto = set()\n",
    "\n",
    "if conjunto == set():\n",
    "    print(\"Este es un conjunto vacio\")\n",
    "\n",
    "if not conjunto:\n",
    "    print(\"Este es un conjunto vacio\")"
   ]
  },
  {
   "cell_type": "markdown",
   "metadata": {},
   "source": [
    "Para None"
   ]
  },
  {
   "cell_type": "code",
   "execution_count": 45,
   "metadata": {},
   "outputs": [
    {
     "name": "stdout",
     "output_type": "stream",
     "text": [
      "Este es un None\n",
      "Este es un None\n",
      "Este es un None\n"
     ]
    }
   ],
   "source": [
    "none = None\n",
    "\n",
    "if none is None:\n",
    "    print(\"Este es un None\")\n",
    "\n",
    "if none == None:\n",
    "    print(\"Este es un None\")\n",
    "\n",
    "if not none:\n",
    "    print(\"Este es un None\")"
   ]
  },
  {
   "cell_type": "markdown",
   "metadata": {},
   "source": [
    "## Bucle while"
   ]
  },
  {
   "cell_type": "markdown",
   "metadata": {},
   "source": [
    "### While Basico\n",
    "\n",
    "Imprime de 1 a 6"
   ]
  },
  {
   "cell_type": "code",
   "execution_count": 46,
   "metadata": {},
   "outputs": [
    {
     "name": "stdout",
     "output_type": "stream",
     "text": [
      "1\n",
      "2\n",
      "3\n",
      "4\n",
      "5\n"
     ]
    }
   ],
   "source": [
    "i = 1\n",
    "\n",
    "while i < 6:\n",
    "    print(i)\n",
    "    i += 1"
   ]
  },
  {
   "cell_type": "markdown",
   "metadata": {},
   "source": [
    "### While con Break\n",
    "\n",
    "Imprime del 1 al 3 por Break "
   ]
  },
  {
   "cell_type": "code",
   "execution_count": 47,
   "metadata": {},
   "outputs": [
    {
     "name": "stdout",
     "output_type": "stream",
     "text": [
      "1\n",
      "2\n",
      "3\n"
     ]
    }
   ],
   "source": [
    "i = 1\n",
    "\n",
    "while i < 6:\n",
    "    print(i)\n",
    "    if i == 3:\n",
    "        break ## Corta el while\n",
    "    i += 1"
   ]
  },
  {
   "cell_type": "markdown",
   "metadata": {},
   "source": [
    "### While con Continue\n",
    "\n",
    "Imprimi del 1 al 6 salteando el 3 "
   ]
  },
  {
   "cell_type": "code",
   "execution_count": 48,
   "metadata": {},
   "outputs": [
    {
     "name": "stdout",
     "output_type": "stream",
     "text": [
      "1\n",
      "2\n",
      "4\n",
      "5\n",
      "6\n"
     ]
    }
   ],
   "source": [
    "i = 0\n",
    "\n",
    "while i < 6:\n",
    "    i += 1\n",
    "    if i == 3:\n",
    "        continue ## Vuelve al while\n",
    "    print(i)"
   ]
  },
  {
   "cell_type": "markdown",
   "metadata": {},
   "source": [
    "### While con Else"
   ]
  },
  {
   "cell_type": "code",
   "execution_count": 49,
   "metadata": {},
   "outputs": [
    {
     "name": "stdout",
     "output_type": "stream",
     "text": [
      "1\n",
      "2\n",
      "3\n",
      "4\n",
      "5\n",
      "i is no longer less than 6\n"
     ]
    }
   ],
   "source": [
    "i = 1\n",
    "\n",
    "while i < 6:\n",
    "    print(i)\n",
    "    i += 1\n",
    "else:\n",
    "    print(\"i is no longer less than 6\")"
   ]
  },
  {
   "cell_type": "markdown",
   "metadata": {},
   "source": [
    "## For"
   ]
  },
  {
   "cell_type": "markdown",
   "metadata": {},
   "source": [
    "### For con Pass"
   ]
  },
  {
   "cell_type": "code",
   "execution_count": 50,
   "metadata": {},
   "outputs": [],
   "source": [
    "for x in [0, 1, 2]:\n",
    "    pass"
   ]
  },
  {
   "cell_type": "markdown",
   "metadata": {},
   "source": [
    "### For usando In"
   ]
  },
  {
   "cell_type": "code",
   "execution_count": 51,
   "metadata": {},
   "outputs": [
    {
     "name": "stdout",
     "output_type": "stream",
     "text": [
      "H\n",
      "o\n",
      "l\n",
      "a\n"
     ]
    }
   ],
   "source": [
    "for char in \"Hola\":\n",
    "    print(char)"
   ]
  },
  {
   "cell_type": "markdown",
   "metadata": {},
   "source": [
    "### For usando range"
   ]
  },
  {
   "cell_type": "code",
   "execution_count": 52,
   "metadata": {},
   "outputs": [
    {
     "name": "stdout",
     "output_type": "stream",
     "text": [
      "0\n",
      "1\n",
      "2\n",
      "3\n",
      "4\n",
      "5\n",
      "6\n",
      "7\n",
      "8\n",
      "9\n"
     ]
    }
   ],
   "source": [
    "for i in range(10):\n",
    "    print(i)"
   ]
  },
  {
   "cell_type": "markdown",
   "metadata": {},
   "source": [
    "### For usando range de len de cadena"
   ]
  },
  {
   "cell_type": "code",
   "execution_count": 53,
   "metadata": {},
   "outputs": [
    {
     "name": "stdout",
     "output_type": "stream",
     "text": [
      "H\n",
      "o\n",
      "l\n",
      "a\n"
     ]
    }
   ],
   "source": [
    "cadena = \"Hola\"\n",
    "\n",
    "for i in range(len(cadena)):\n",
    "    print(cadena[i])"
   ]
  },
  {
   "cell_type": "markdown",
   "metadata": {},
   "source": [
    "### For de Lista con Break"
   ]
  },
  {
   "cell_type": "code",
   "execution_count": 54,
   "metadata": {},
   "outputs": [
    {
     "name": "stdout",
     "output_type": "stream",
     "text": [
      "1\n",
      "2\n",
      "3\n"
     ]
    }
   ],
   "source": [
    "lista = [1, 2, 3, 4, 5, 6, 7, 8, 9, 10]\n",
    "for x in lista:\n",
    "    print(x)\n",
    "    if x == 3:\n",
    "        break"
   ]
  },
  {
   "cell_type": "markdown",
   "metadata": {},
   "source": [
    "### For con Continue"
   ]
  },
  {
   "cell_type": "code",
   "execution_count": 55,
   "metadata": {},
   "outputs": [
    {
     "name": "stdout",
     "output_type": "stream",
     "text": [
      "1\n",
      "2\n",
      "6\n",
      "7\n",
      "8\n",
      "9\n",
      "10\n"
     ]
    }
   ],
   "source": [
    "for x in lista:\n",
    "    if x == 3 or x==4 or x==5:\n",
    "        continue\n",
    "    print(x)"
   ]
  },
  {
   "cell_type": "markdown",
   "metadata": {},
   "source": [
    "### For con Continue - Alternativa"
   ]
  },
  {
   "cell_type": "code",
   "execution_count": 56,
   "metadata": {},
   "outputs": [
    {
     "name": "stdout",
     "output_type": "stream",
     "text": [
      "1\n",
      "2\n",
      "6\n",
      "7\n",
      "8\n",
      "9\n",
      "10\n"
     ]
    }
   ],
   "source": [
    "for x in lista:\n",
    "    if x in [3, 4, 5]:\n",
    "        continue\n",
    "    print(x)"
   ]
  },
  {
   "cell_type": "markdown",
   "metadata": {},
   "source": [
    "### For con Range Acotado 2 al 6 sin incluir"
   ]
  },
  {
   "cell_type": "code",
   "execution_count": 57,
   "metadata": {},
   "outputs": [
    {
     "name": "stdout",
     "output_type": "stream",
     "text": [
      "2\n",
      "3\n",
      "4\n",
      "5\n"
     ]
    }
   ],
   "source": [
    "for x in range(2, 6):\n",
    "    print(x)"
   ]
  },
  {
   "cell_type": "markdown",
   "metadata": {},
   "source": [
    "### For con Range 2 al 30 en saltos de 3"
   ]
  },
  {
   "cell_type": "code",
   "execution_count": 58,
   "metadata": {},
   "outputs": [
    {
     "name": "stdout",
     "output_type": "stream",
     "text": [
      "2\n",
      "5\n",
      "8\n",
      "11\n",
      "14\n",
      "17\n",
      "20\n",
      "23\n",
      "26\n",
      "29\n"
     ]
    }
   ],
   "source": [
    "for x in range(2, 30, 3):\n",
    "    print(x)"
   ]
  },
  {
   "cell_type": "markdown",
   "metadata": {},
   "source": [
    "### For con Else"
   ]
  },
  {
   "cell_type": "code",
   "execution_count": 59,
   "metadata": {},
   "outputs": [
    {
     "name": "stdout",
     "output_type": "stream",
     "text": [
      "0\n",
      "1\n",
      "2\n",
      "3\n",
      "4\n",
      "5\n",
      "No encontré el 7\n"
     ]
    }
   ],
   "source": [
    "for x in range(6):\n",
    "    print(x)\n",
    "    if x == 7:\n",
    "        print(\"7 Encontrado!\")\n",
    "        break\n",
    "else:\n",
    "    print(\"No encontré el 7\")"
   ]
  },
  {
   "cell_type": "code",
   "execution_count": null,
   "metadata": {},
   "outputs": [
    {
     "name": "stderr",
     "output_type": "stream",
     "text": [
      "Exception in thread Thread-6:\n",
      "Traceback (most recent call last):\n",
      "  File \"C:\\Sistemas\\Anaconda\\lib\\threading.py\", line 932, in _bootstrap_inner\n",
      "    self.run()\n",
      "  File \"C:\\Sistemas\\Anaconda\\lib\\threading.py\", line 870, in run\n",
      "    self._target(*self._args, **self._kwargs)\n",
      "  File \"C:\\Sistemas\\Anaconda\\lib\\site-packages\\multitasking\\__init__.py\", line 102, in _run_via_pool\n",
      "    return callee(*args, **kwargs)\n",
      "  File \"C:\\Sistemas\\Anaconda\\lib\\site-packages\\yfinance\\multi.py\", line 167, in _download_one_threaded\n",
      "    data = _download_one(ticker, start, end, auto_adjust, back_adjust,\n",
      "  File \"C:\\Sistemas\\Anaconda\\lib\\site-packages\\yfinance\\multi.py\", line 179, in _download_one\n",
      "    return Ticker(ticker).history(period=period, interval=interval,\n",
      "  File \"C:\\Sistemas\\Anaconda\\lib\\site-packages\\yfinance\\base.py\", line 157, in history\n",
      "    data = data.json()\n",
      "  File \"C:\\Sistemas\\Anaconda\\lib\\site-packages\\requests\\models.py\", line 898, in json\n",
      "    return complexjson.loads(self.text, **kwargs)\n",
      "  File \"C:\\Sistemas\\Anaconda\\lib\\site-packages\\simplejson\\__init__.py\", line 525, in loads\n",
      "    return _default_decoder.decode(s)\n",
      "  File \"C:\\Sistemas\\Anaconda\\lib\\site-packages\\simplejson\\decoder.py\", line 370, in decode\n",
      "    obj, end = self.raw_decode(s)\n",
      "  File \"C:\\Sistemas\\Anaconda\\lib\\site-packages\\simplejson\\decoder.py\", line 400, in raw_decode\n",
      "    return self.scan_once(s, idx=_w(s, idx).end())\n",
      "  File \"C:\\Sistemas\\Anaconda\\lib\\site-packages\\simplejson\\scanner.py\", line 79, in scan_once\n",
      "    return _scan_once(string, idx)\n",
      "  File \"C:\\Sistemas\\Anaconda\\lib\\site-packages\\simplejson\\scanner.py\", line 70, in _scan_once\n",
      "    raise JSONDecodeError(errmsg, string, idx)\n",
      "simplejson.errors.JSONDecodeError: Expecting value: line 1 column 1 (char 0)\n"
     ]
    }
   ],
   "source": [
    "import yfinance as yf\n",
    "import pandas as pd\n",
    "\n",
    "df=pd.DataFrame()\n",
    "\n",
    "for activos in [\"SUPV\"]:\n",
    "    try:\n",
    "        data = yf.download(activos, start=\"2022-01-01\", end='2022-10-13')  \n",
    "  ##      data.rename(columns={\"Adj Close\": activos}, inplace=True)\n",
    "  ##      data.drop([\"Open\", \"High\", \"Low\", \"Close\", \"Volume\"], axis=1, inplace=True)\n",
    "  ##      df = df.merge(data, right_index=True, left_index=True, how=\"outer\").resample(\"W\").last()\n",
    "    except Exception as e:\n",
    "        print(e)\n",
    "        print(\"NO SE PUEDEN DESCARGAR DATOS DE: {0}\".format(self.fallas_datos))\n",
    "    print(\"\",data)"
   ]
  },
  {
   "cell_type": "code",
   "execution_count": null,
   "metadata": {},
   "outputs": [],
   "source": [
    "import yfinance as yf\n",
    "import pandas as pd\n",
    "import matplotlib.pyplot as plot\n",
    "import matplotlib as mt\n",
    "\n",
    "df=pd.DataFrame()\n",
    "\n",
    "for activos in [\"SUPV\",\"GGAL\",\"MELI\"]:\n",
    "    try:\n",
    "        data = yf.download(activos, start=\"2021-01-01\", end='2022-10-13')\n",
    "##        data.rename(columns={\"Adj Close\": activos}, inplace=True)\n",
    "##        data.drop([\"Open\", \"High\", \"Low\", \"Close\", \"Volume\"], axis=1, inplace=True)\n",
    "##        df = df.merge(data, right_index=True, left_index=True, how=\"outer\").resample(\"W\").last()\n",
    "    except Exception as e:\n",
    "        print(e)\n",
    "        print(\"NO SE PUEDEN DESCARGAR DATOS DE: {0}\".format(self.fallas_datos))\n",
    "print(\"\",df)\n",
    "plot.show(block=True)\n",
    "\n"
   ]
  },
  {
   "cell_type": "code",
   "execution_count": null,
   "metadata": {},
   "outputs": [],
   "source": []
  }
 ],
 "metadata": {
  "kernelspec": {
   "display_name": "Python 3",
   "language": "python",
   "name": "python3"
  },
  "language_info": {
   "codemirror_mode": {
    "name": "ipython",
    "version": 3
   },
   "file_extension": ".py",
   "mimetype": "text/x-python",
   "name": "python",
   "nbconvert_exporter": "python",
   "pygments_lexer": "ipython3",
   "version": "3.8.5"
  }
 },
 "nbformat": 4,
 "nbformat_minor": 4
}
