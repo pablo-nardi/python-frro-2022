{
 "cells": [
  {
   "cell_type": "markdown",
   "metadata": {},
   "source": [
    "# Funcion y Clases  "
   ]
  },
  {
   "cell_type": "markdown",
   "metadata": {},
   "source": []
  },
  {
   "cell_type": "markdown",
   "metadata": {},
   "source": [
    "# Funciones Parametros \n"
   ]
  },
  {
   "cell_type": "code",
   "execution_count": 17,
   "metadata": {},
   "outputs": [
    {
     "name": "stdout",
     "output_type": "stream",
     "text": [
      "17\n"
     ]
    }
   ],
   "source": [
    "def sumar(n1,n2):\n",
    "\tn = n1 + n2\n",
    "\treturn n\n",
    "\n",
    "print( sumar(10, 7) )\n"
   ]
  },
  {
   "cell_type": "code",
   "execution_count": 18,
   "metadata": {},
   "outputs": [
    {
     "name": "stdout",
     "output_type": "stream",
     "text": [
      "Edad 15\n",
      "Nuevo Valor de Edad:  16\n"
     ]
    }
   ],
   "source": [
    "#Para que una función devuelva varios valores, suele usarse que devuelva un tupla:\n",
    "\n",
    "\n",
    "def func2(a, b):\n",
    "    a = 'Nuevo Valor de ' + a + ': '\n",
    "    b = b + 1\n",
    "    return a, b\n",
    "\n",
    "c1 = 'Edad'\n",
    "e1 = 15\n",
    "x,y = func2(c1, e1)\n",
    "print(c1, e1)\n",
    "print(x, y)\n"
   ]
  },
  {
   "cell_type": "code",
   "execution_count": 21,
   "metadata": {},
   "outputs": [
    {
     "name": "stdout",
     "output_type": "stream",
     "text": [
      "ProfMiguel\n",
      "DrJuan\n"
     ]
    }
   ],
   "source": [
    "#Función con parámetro con valor por defecto:\n",
    "\n",
    "\n",
    "def hola(nombre, titulo=\"Dr\"):     \n",
    "\tprint( titulo + nombre)\n",
    "\n",
    "hola(\"Miguel\", \"Prof\")\n",
    "hola(\"Juan\")\n"
   ]
  },
  {
   "cell_type": "code",
   "execution_count": 27,
   "metadata": {},
   "outputs": [
    {
     "name": "stdout",
     "output_type": "stream",
     "text": [
      "Matias López\n"
     ]
    }
   ],
   "source": [
    "#Funciones Claves Valor \n",
    "def func0( nombre,apellido ):\n",
    "\tprint ( nombre, apellido)\n",
    "\n",
    "\n",
    "\n",
    "\n",
    "def func1( nombre,/ ,apellido ):\n",
    "\tprint ( nombre, apellido)\n",
    "\n",
    "func0 ( nombre=\"Matias\" , apellido=\"López\")   \n",
    "    \n",
    "    \n",
    "func1 ( \"Matias\" , apellido=\"López\")\n",
    "\n"
   ]
  },
  {
   "cell_type": "code",
   "execution_count": 28,
   "metadata": {},
   "outputs": [
    {
     "name": "stdout",
     "output_type": "stream",
     "text": [
      "Matías\n",
      "1234567\n",
      "155-458798\n",
      "4444\n"
     ]
    }
   ],
   "source": [
    "#Parámetros en cantidad no especificada de antemano.\n",
    "\n",
    "def func2( nombre, *telefonos ):\n",
    "\tprint (nombre)\n",
    "\tfor nt in telefonos:\n",
    "\t\tprint (nt)\n",
    "\n",
    "func2 ( \"Matías\", \"1234567\", \"155-458798\",\"4444\")\n"
   ]
  },
  {
   "cell_type": "code",
   "execution_count": 32,
   "metadata": {},
   "outputs": [
    {
     "name": "stdout",
     "output_type": "stream",
     "text": [
      "Matías\n",
      "1234567\n",
      "155-458798\n",
      "Junín\n",
      "ingeniero\n"
     ]
    }
   ],
   "source": [
    "##Parámetros en cantidad no especificada de antemano, con estructura clave-valor.\n",
    "##Si hay parámetros fijos y arbitrarios, los arbitrarios se indican después de los fijos.\n",
    "\n",
    "\n",
    "def func3( nombre, *telefonos, **varios ):\n",
    "\tprint (nombre)\n",
    "\tfor nt in telefonos:\n",
    "\t\tprint (nt)\n",
    "\n",
    "\tfor clave in varios:\n",
    "\t\tprint( varios[clave] )\n",
    "\n",
    "func3 ( \"Matías\", \"1234567\", \"155-458798\", domicilio=\"Junín\", profesion=\"ingeniero\")\n"
   ]
  },
  {
   "cell_type": "code",
   "execution_count": 28,
   "metadata": {},
   "outputs": [
    {
     "name": "stdout",
     "output_type": "stream",
     "text": [
      "Juan Pérez\n",
      "Juan Pérez\n"
     ]
    }
   ],
   "source": [
    "##Caso en que se esperan parámetros fijos, pero se envían en una estructura.  \n",
    "##“Desempaquetarlos” al envío\n",
    "\n",
    "\n",
    "def func1( nombre, apellido ):\n",
    "\tprint ( nombre, apellido)\n",
    "\n",
    "func1 (\"Juan\", \"Pérez\")\n",
    "\n",
    "\n",
    "\n",
    "datos = [\"Juan\", \"Pérez\"]\n",
    "func1( *datos )\t\t"
   ]
  },
  {
   "cell_type": "code",
   "execution_count": 45,
   "metadata": {},
   "outputs": [
    {
     "name": "stdout",
     "output_type": "stream",
     "text": [
      "Juan Pérez\n",
      "Juan Pérez\n",
      "Matías López\n",
      "Matías López\n",
      "Matías \n"
     ]
    }
   ],
   "source": [
    "## desempaquetado de parámetros - ejemplos\n",
    "\n",
    "def func1( nombre, apellido=\" \", **datos ):\n",
    "\tprint ( nombre, apellido)\n",
    "\n",
    "def func2( **datos ):\n",
    "    for i in datos:\n",
    "        print(i)\n",
    "    \n",
    "    \n",
    "#--- llamada en la forma habitual:\n",
    "func1('Juan', 'Pérez')\n",
    "\n",
    "#--- parámetros en una lista\n",
    "datos = ['Juan', 'Pérez']\n",
    "func1( *datos )\n",
    "\n",
    "#--- parámetros en forma de pares clave - valor\n",
    "#--- forma directa\n",
    "func1 ( apellido='López', nombre='Matías')\n",
    "\n",
    "#--- en un diccionario\n",
    "dicc1={'apellido':'López', 'nombre': 'Matías'}\n",
    "func1(**dicc1)\n",
    "\n",
    "\n",
    "#--- en un diccionario\n",
    "dicc2={'apellido':'López',  \"domicilio\":\"junin \", 'nombre': 'Matías'}\n",
    "func1(**dicc2)\n",
    "\n"
   ]
  },
  {
   "cell_type": "markdown",
   "metadata": {},
   "source": [
    "# Funciones Lambda \n"
   ]
  },
  {
   "cell_type": "code",
   "execution_count": 49,
   "metadata": {},
   "outputs": [
    {
     "name": "stdout",
     "output_type": "stream",
     "text": [
      "3\n"
     ]
    }
   ],
   "source": [
    "\n",
    "z = lambda x,y : x+y \n",
    "\n",
    "print( z(1,2))\n",
    "\n"
   ]
  },
  {
   "cell_type": "code",
   "execution_count": 46,
   "metadata": {},
   "outputs": [
    {
     "name": "stdout",
     "output_type": "stream",
     "text": [
      "[0, 1, 4, 9, 16, 0, 1, 4, 9, 16]\n"
     ]
    }
   ],
   "source": [
    "#Son funciones sin nombre. Se usan cuando no se quiere dar un nombre a una función muy simple, de una línea. \n",
    "#Sintaxis:   lambda   argumentos : expresión\n",
    "#Devuelve un objeto función.\n",
    "\n",
    "\n",
    "cuadrados = []\n",
    "for  x in range(5): \n",
    "\tcuadrados.append( (lambda n: n**2) (x) )\n",
    "\n",
    "    \n",
    "###Otra forma: \n",
    "g = lambda n:n**2\t\t#--- se define un objeto función  g\n",
    "for x in range(5):\n",
    "\tcuadrados.append( g(x) )\t#--- se llama a la función g\n",
    "\n",
    "print(cuadrados)"
   ]
  },
  {
   "cell_type": "code",
   "execution_count": 36,
   "metadata": {},
   "outputs": [
    {
     "name": "stdout",
     "output_type": "stream",
     "text": [
      "[0, 1, 4, 9, 16]\n",
      "[1, 9]\n",
      "[0, 4, 16]\n"
     ]
    }
   ],
   "source": [
    "cuadrados = []\n",
    "for  x in range(5): \n",
    "\tcuadrados.append( (lambda n: n**2) (x) )\n",
    "\n",
    "\n",
    "#Se puede hacer así con lista expandida:\n",
    "cuadrados = [ x**2 for x in range(5)]\n",
    "print(cuadrados)\n",
    "\n",
    "#Ej agregando condición lógica:\n",
    "cuad_imp = [x**2 for x in range(5) if x%2==1]\n",
    "cuad_par = [x**2 for x in range(5) if x%2==0]\n",
    "\n",
    "print(cuad_imp)\n",
    "print(cuad_par)\n"
   ]
  },
  {
   "cell_type": "code",
   "execution_count": 53,
   "metadata": {},
   "outputs": [
    {
     "data": {
      "text/plain": [
       "[0, 4, 16]"
      ]
     },
     "execution_count": 53,
     "metadata": {},
     "output_type": "execute_result"
    }
   ],
   "source": [
    "cuadrados = map(lambda x : x**2 , range(5))\n",
    "cuad_par = list( filter( lambda x: x%2==0 , cuadrados ))\n",
    "cuad_par"
   ]
  },
  {
   "cell_type": "code",
   "execution_count": 54,
   "metadata": {},
   "outputs": [
    {
     "data": {
      "text/plain": [
       "[0, 4, 16]"
      ]
     },
     "execution_count": 54,
     "metadata": {},
     "output_type": "execute_result"
    }
   ],
   "source": [
    "## El mismmo codigo sin lambda \n",
    "\n",
    "def cuadrado(x):\n",
    "    return x**2\n",
    "\n",
    "def espar(x):\n",
    "    return x%2==0 \n",
    "\n",
    "cuadrados = map(cuadrado , range(5))\n",
    "cuad_par = list( filter( espar , cuadrados ))\n",
    "cuad_par"
   ]
  },
  {
   "cell_type": "code",
   "execution_count": 37,
   "metadata": {},
   "outputs": [
    {
     "data": {
      "text/plain": [
       "7"
      ]
     },
     "execution_count": 37,
     "metadata": {},
     "output_type": "execute_result"
    }
   ],
   "source": [
    "sumar = lambda x,y: x+y\n",
    "\n",
    "sumar(5,2)"
   ]
  },
  {
   "cell_type": "markdown",
   "metadata": {},
   "source": [
    "# Clases "
   ]
  },
  {
   "cell_type": "code",
   "execution_count": 2,
   "metadata": {},
   "outputs": [
    {
     "name": "stdout",
     "output_type": "stream",
     "text": [
      "12345\n",
      "Simple clase de ejemplo\n"
     ]
    }
   ],
   "source": [
    "##Los objetos clase soportan dos tipos de operaciones: hacer referencia a atributos e instanciación.\n",
    "##Para hacer referencia a atributos se usa la sintaxis estándar: objeto.nombre. \n",
    "\n",
    "class MiClase:\n",
    "        \"\"\"Simple clase de ejemplo\"\"\"\n",
    "        i = 12345\n",
    "        def f1(self):\n",
    "            return \"hola mundo\"\n",
    "\n",
    "#Los nombres de atributo válidos son todos los nombres en el espacio de nombres de la clase cuando ésta se crea. \n",
    "##MiClase.i y MiClase.f1 son referencias de atributos válidas, devuelven un entero y un objeto función respectivamente. \n",
    "##Los atributos de clase pueden ser asignados,  MiClase.i = 4567 \n",
    "\n",
    "print(MiClase.i)\n",
    "\n",
    "##__doc__ también es un atributo válido, que devuelve la documentación asociada a la clase:  \n",
    "\n",
    "print(MiClase.__doc__) \n"
   ]
  },
  {
   "cell_type": "code",
   "execution_count": 59,
   "metadata": {},
   "outputs": [
    {
     "name": "stdout",
     "output_type": "stream",
     "text": [
      "C.valor 0\n",
      "C.valor 10\n",
      "B.valor 0\n",
      "doc Clase Calculadora\n",
      "doc Sumar  Calculadora Sumar suma \n"
     ]
    }
   ],
   "source": [
    "##Se estila que el nombre de una clase comience con mayúsculas.\n",
    "##self es el primer parámetro que se pasa a cada método. Se usa para referirse al objeto que se está creando.\n",
    "\n",
    "class Calculadora:\n",
    "        \"\"\"Clase Calculadora\"\"\"\n",
    "        valor = 0\n",
    "        def sumar(self, monto):\n",
    "            \"\"\"Calculadora Sumar suma \"\"\"\n",
    "            self.valor += monto\n",
    "        def get_valor(self):\n",
    "            return self.valor\n",
    "\n",
    "\n",
    "C=Calculadora()\n",
    "print(\"C.valor\",C.valor)\n",
    "C.sumar(10)\n",
    "print(\"C.valor\",C.valor)\n",
    "B=Calculadora()\n",
    "print(\"B.valor\",B.valor)\n",
    "print(\"doc\",B.__doc__)\n",
    "print(\"doc Sumar \",B.sumar.__doc__)\n",
    "\n"
   ]
  },
  {
   "cell_type": "code",
   "execution_count": 62,
   "metadata": {},
   "outputs": [
    {
     "name": "stdout",
     "output_type": "stream",
     "text": [
      "Init MiClase2 \n",
      "Init MiClase2 \n"
     ]
    }
   ],
   "source": [
    "##La instanciación de clases usa la notación de funciones. \n",
    "\n",
    "x = MiClase()\n",
    "\n",
    "##...crea una nueva instancia de la clase y asigna este objeto a la variable local x.\n",
    "##La operación de instanciación crea un objeto vacío. Muchas clases necesitan crear objetos con instancias \n",
    "## en un estado inicial particular. Por lo tanto una clase puede definir un método especial llamado __init__(self):\n",
    "\n",
    "class MiClase2():\n",
    "    def __init__(self):\n",
    "        print(\"Init MiClase2 \")\n",
    "        self.datos = [0,0]\n",
    "\n",
    "z = MiClase2()\n",
    "q = MiClase2()\n",
    "##print(\"z.datos\",z.datos)\n",
    "        \n",
    "##Cuando una clase define un método __init__(), la instanciación de la clase automáticamente invoca a __init__()\n",
    "## para la instancia recién creada. \n"
   ]
  },
  {
   "cell_type": "code",
   "execution_count": 16,
   "metadata": {},
   "outputs": [
    {
     "name": "stdout",
     "output_type": "stream",
     "text": [
      "ocuadrado.lados 4\n",
      "oauto.color azul\n"
     ]
    }
   ],
   "source": [
    "class Cuadrado:\n",
    "    def __init__(self):\n",
    "        self.lados = 4\n",
    "        \n",
    "ocuadrado = Cuadrado()  #--- no necesita parámetros\n",
    "print(\"ocuadrado.lados\",ocuadrado.lados)\n",
    "\n",
    "class Auto:\n",
    "    def __init__(self, color):\n",
    "        self.color = color\n",
    "        \n",
    "oauto = Auto(\"azul\")   #--- Nota: sólo se pasa el parámetro\n",
    "print(\"oauto.color\",oauto.color)\n"
   ]
  },
  {
   "cell_type": "code",
   "execution_count": 67,
   "metadata": {},
   "outputs": [
    {
     "name": "stdout",
     "output_type": "stream",
     "text": [
      "Cuadrado\n",
      "cuadrado tiene otras cualidades\n",
      "Cuadrado Caso particular de figura\n"
     ]
    }
   ],
   "source": [
    "class Figura:                             #--- hereda de object  …. Es innecesario indicarlo\n",
    "    nlados = 0\n",
    "    cnombre = \"Sin Nombre\"\n",
    "    def muestra(self):\n",
    "        print(self.cnombre)\n",
    "\n",
    "#--- hereda de Figura\n",
    "class Cuadrado(Figura):                   #--- Al definir la clase, se indica de quién hereda\n",
    "    '''Cuadrado Caso particular de figura'''       #--- Asigna    __doc__\n",
    "    def __init__(self):\n",
    "        self.nlados = 4\n",
    "        self.cnombre = \"Cuadrado\"\n",
    "\n",
    "    def  muestra(self):\n",
    "         super().muestra()             #---- llama al método de la clase padre\n",
    "         pf\n",
    "#--- prueba         \n",
    "oc1 = Cuadrado()        \n",
    "oc1.muestra()        \n",
    "print(oc1.__doc__)\n"
   ]
  },
  {
   "cell_type": "code",
   "execution_count": null,
   "metadata": {},
   "outputs": [],
   "source": []
  }
 ],
 "metadata": {
  "kernelspec": {
   "display_name": "Python 3",
   "language": "python",
   "name": "python3"
  },
  "language_info": {
   "codemirror_mode": {
    "name": "ipython",
    "version": 3
   },
   "file_extension": ".py",
   "mimetype": "text/x-python",
   "name": "python",
   "nbconvert_exporter": "python",
   "pygments_lexer": "ipython3",
   "version": "3.8.5"
  }
 },
 "nbformat": 4,
 "nbformat_minor": 4
}
